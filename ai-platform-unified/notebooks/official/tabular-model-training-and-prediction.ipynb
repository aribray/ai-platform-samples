{
 "cells": [
  {
   "cell_type": "code",
   "execution_count": null,
   "metadata": {
    "id": "copyright",
    "tags": []
   },
   "outputs": [],
   "source": [
    "# Copyright 2021 Google LLC\n",
    "#\n",
    "# Licensed under the Apache License, Version 2.0 (the \"License\");\n",
    "# you may not use this file except in compliance with the License.\n",
    "# You may obtain a copy of the License at\n",
    "#\n",
    "#     https://www.apache.org/licenses/LICENSE-2.0\n",
    "#\n",
    "# Unless required by applicable law or agreed to in writing, software\n",
    "# distributed under the License is distributed on an \"AS IS\" BASIS,\n",
    "# WITHOUT WARRANTIES OR CONDITIONS OF ANY KIND, either express or implied.\n",
    "# See the License for the specific language governing permissions and\n",
    "# limitations under the License."
   ]
  },
  {
   "cell_type": "markdown",
   "metadata": {
    "id": "JAPoU8Sm5E6e"
   },
   "source": [
    "<table align=\"left\">\n",
    "\n",
    "  <td>\n",
    "    <a href=\"https://colab.research.google.com/github/aribray/ai-platform-samples/blob/aribray--tabular-notebooks/ai-platform-unified/notebooks/official/tabular-model-training-and-prediction.ipynb\"\">\n",
    "      <img src=\"https://cloud.google.com/ml-engine/images/colab-logo-32px.png\" alt=\"Colab logo\"> Run in Colab\n",
    "    </a>\n",
    "  </td>\n",
    "  <td>\n",
    "    <a href=\"https://github.com/GoogleCloudPlatform/ai-platform-samples/blob/master/ai-platform-unified/notebooks/official/tabular-model-training-and-prediction.ipynb\">\n",
    "      <img src=\"https://cloud.google.com/ml-engine/images/github-logo-32px.png\" alt=\"GitHub logo\">\n",
    "      View on GitHub\n",
    "    </a>\n",
    "  </td>\n",
    "</table>"
   ]
  },
  {
   "cell_type": "markdown",
   "metadata": {
    "id": "tvgnzT1CKxrO"
   },
   "source": [
    "# AI Platform (Unified) Model Builder SDK: AutoML Tabular Training and Prediction\n",
    "\n",
    "To use this Colaboratory notebook, you copy the notebook to your own Google Drive and open it with Colaboratory (or Colab). You can run each step, or cell, and see its results. To run a cell, use Shift+Enter. Colab automatically displays the return value of the last line in each cell. For more information about running notebooks in Colab, see the Colab welcome page.\n",
    "\n",
    "\n",
    "## Overview\n",
    "\n",
    "This tutorial demonstrates how to use the AI Platform (Unified) Python client library to train and deploy a tabular classification model for online prediction.\n",
    "\n",
    "**Note**: you may incur charges for training, prediction, storage, or usage of other GCP products in connection with testing this SDK.\n",
    "\n",
    "### Dataset\n",
    "\n",
    "The dataset we are using is the California Housing Dataset, available locally in Colab. To learn more about this dataset, visit https://developers.google.com/machine-learning/crash-course/california-housing-data-description.\n",
    "\n",
    "### Objective\n",
    "\n",
    "This notebook demonstrates how to train and make predictions on an AutoML model based on a tabular dataset. The model is . Alternatively, you can train and make predictions on models by using the `gcloud` command-line tool or by using the online Cloud Console.\n",
    "\n",
    "The steps performed include the following:\n",
    "\n",
    "- Create an AI Platform (Unified) model training job.\n",
    "- Train an AutoML Tabular model.\n",
    "- Deploy the `Model` resource to a serving `Endpoint` resource.\n",
    "- Make a prediction by sending data.\n",
    "- Undeploy the `Model` resource.\n",
    "\n",
    "### Costs \n",
    "\n",
    "This tutorial uses billable components of Google Cloud:\n",
    "\n",
    "* AI Platform (Unified)\n",
    "* Cloud Storage\n",
    "\n",
    "Learn about [AI Platform (Unified)\n",
    "pricing](https://cloud.google.com/ai-platform-unified/pricing) and [Cloud Storage\n",
    "pricing](https://cloud.google.com/storage/pricing), and use the [Pricing\n",
    "Calculator](https://cloud.google.com/products/calculator/)\n",
    "to generate a cost estimate based on your projected usage."
   ]
  },
  {
   "cell_type": "markdown",
   "metadata": {
    "id": "install_aip"
   },
   "source": [
    "## Installation\n",
    "\n",
    "Install the latest (preview) version of AI Platform (Unified) client library."
   ]
  },
  {
   "cell_type": "code",
   "execution_count": 1,
   "metadata": {},
   "outputs": [
    {
     "name": "stdout",
     "output_type": "stream",
     "text": [
      "Collecting git+https://github.com/googleapis/python-aiplatform.git@mb-release\n",
      "  Cloning https://github.com/googleapis/python-aiplatform.git (to revision mb-release) to /private/var/folders/zj/wj643q6n4nv827c3fkscb6mr00rdsx/T/pip-req-build-to6k413h\n",
      "  Running command git clone -q https://github.com/googleapis/python-aiplatform.git /private/var/folders/zj/wj643q6n4nv827c3fkscb6mr00rdsx/T/pip-req-build-to6k413h\n",
      "  Running command git checkout -q 4ed7a50fef58d694ddb29d4240965d44e383da2b\n",
      "Requirement already satisfied: google-api-core[grpc]<2.0.0dev,>=1.22.2 in /Users/aribray/.pyenv/versions/3.6.13/lib/python3.6/site-packages (from google-cloud-aiplatform==0.6.0a1) (1.26.3)\n",
      "Requirement already satisfied: proto-plus>=1.10.1 in /Users/aribray/.pyenv/versions/3.6.13/lib/python3.6/site-packages (from google-cloud-aiplatform==0.6.0a1) (1.18.1)\n",
      "Requirement already satisfied: google-cloud-storage<2.0.0dev,>=1.26.0 in /Users/aribray/.pyenv/versions/3.6.13/lib/python3.6/site-packages (from google-cloud-aiplatform==0.6.0a1) (1.38.0)\n",
      "Requirement already satisfied: google-cloud-bigquery<3.0.0dev,>=1.15.0 in /Users/aribray/.pyenv/versions/3.6.13/lib/python3.6/site-packages (from google-cloud-aiplatform==0.6.0a1) (2.13.1)\n",
      "Requirement already satisfied: setuptools>=40.3.0 in /Users/aribray/.pyenv/versions/3.6.13/lib/python3.6/site-packages (from google-api-core[grpc]<2.0.0dev,>=1.22.2->google-cloud-aiplatform==0.6.0a1) (56.0.0)\n",
      "Requirement already satisfied: googleapis-common-protos<2.0dev,>=1.6.0 in /Users/aribray/.pyenv/versions/3.6.13/lib/python3.6/site-packages (from google-api-core[grpc]<2.0.0dev,>=1.22.2->google-cloud-aiplatform==0.6.0a1) (1.53.0)\n",
      "Requirement already satisfied: six>=1.13.0 in /Users/aribray/.local/lib/python3.6/site-packages (from google-api-core[grpc]<2.0.0dev,>=1.22.2->google-cloud-aiplatform==0.6.0a1) (1.15.0)\n",
      "Requirement already satisfied: google-auth<2.0dev,>=1.21.1 in /Users/aribray/.pyenv/versions/3.6.13/lib/python3.6/site-packages (from google-api-core[grpc]<2.0.0dev,>=1.22.2->google-cloud-aiplatform==0.6.0a1) (1.28.1)\n",
      "Requirement already satisfied: requests<3.0.0dev,>=2.18.0 in /Users/aribray/.local/lib/python3.6/site-packages (from google-api-core[grpc]<2.0.0dev,>=1.22.2->google-cloud-aiplatform==0.6.0a1) (2.25.1)\n",
      "Requirement already satisfied: packaging>=14.3 in /Users/aribray/.local/lib/python3.6/site-packages (from google-api-core[grpc]<2.0.0dev,>=1.22.2->google-cloud-aiplatform==0.6.0a1) (20.9)\n",
      "Requirement already satisfied: protobuf>=3.12.0 in /Users/aribray/.local/lib/python3.6/site-packages (from google-api-core[grpc]<2.0.0dev,>=1.22.2->google-cloud-aiplatform==0.6.0a1) (3.15.6)\n",
      "Requirement already satisfied: pytz in /Users/aribray/.pyenv/versions/3.6.13/lib/python3.6/site-packages (from google-api-core[grpc]<2.0.0dev,>=1.22.2->google-cloud-aiplatform==0.6.0a1) (2021.1)\n",
      "Requirement already satisfied: grpcio<2.0dev,>=1.29.0 in /Users/aribray/.pyenv/versions/3.6.13/lib/python3.6/site-packages (from google-api-core[grpc]<2.0.0dev,>=1.22.2->google-cloud-aiplatform==0.6.0a1) (1.37.0)\n",
      "Requirement already satisfied: rsa<5,>=3.1.4 in /Users/aribray/.pyenv/versions/3.6.13/lib/python3.6/site-packages (from google-auth<2.0dev,>=1.21.1->google-api-core[grpc]<2.0.0dev,>=1.22.2->google-cloud-aiplatform==0.6.0a1) (4.7.2)\n",
      "Requirement already satisfied: pyasn1-modules>=0.2.1 in /Users/aribray/.pyenv/versions/3.6.13/lib/python3.6/site-packages (from google-auth<2.0dev,>=1.21.1->google-api-core[grpc]<2.0.0dev,>=1.22.2->google-cloud-aiplatform==0.6.0a1) (0.2.8)\n",
      "Requirement already satisfied: cachetools<5.0,>=2.0.0 in /Users/aribray/.pyenv/versions/3.6.13/lib/python3.6/site-packages (from google-auth<2.0dev,>=1.21.1->google-api-core[grpc]<2.0.0dev,>=1.22.2->google-cloud-aiplatform==0.6.0a1) (4.2.1)\n",
      "Requirement already satisfied: google-cloud-core<2.0dev,>=1.4.1 in /Users/aribray/.pyenv/versions/3.6.13/lib/python3.6/site-packages (from google-cloud-bigquery<3.0.0dev,>=1.15.0->google-cloud-aiplatform==0.6.0a1) (1.6.0)\n",
      "Requirement already satisfied: google-resumable-media<2.0dev,>=0.6.0 in /Users/aribray/.pyenv/versions/3.6.13/lib/python3.6/site-packages (from google-cloud-bigquery<3.0.0dev,>=1.15.0->google-cloud-aiplatform==0.6.0a1) (1.2.0)\n",
      "Requirement already satisfied: google-crc32c<2.0dev,>=1.0 in /Users/aribray/.pyenv/versions/3.6.13/lib/python3.6/site-packages (from google-resumable-media<2.0dev,>=0.6.0->google-cloud-bigquery<3.0.0dev,>=1.15.0->google-cloud-aiplatform==0.6.0a1) (1.1.2)\n",
      "Requirement already satisfied: cffi>=1.0.0 in /Users/aribray/.pyenv/versions/3.6.13/lib/python3.6/site-packages (from google-crc32c<2.0dev,>=1.0->google-resumable-media<2.0dev,>=0.6.0->google-cloud-bigquery<3.0.0dev,>=1.15.0->google-cloud-aiplatform==0.6.0a1) (1.14.5)\n",
      "Requirement already satisfied: pycparser in /Users/aribray/.pyenv/versions/3.6.13/lib/python3.6/site-packages (from cffi>=1.0.0->google-crc32c<2.0dev,>=1.0->google-resumable-media<2.0dev,>=0.6.0->google-cloud-bigquery<3.0.0dev,>=1.15.0->google-cloud-aiplatform==0.6.0a1) (2.20)\n",
      "Requirement already satisfied: pyparsing>=2.0.2 in /Users/aribray/.local/lib/python3.6/site-packages (from packaging>=14.3->google-api-core[grpc]<2.0.0dev,>=1.22.2->google-cloud-aiplatform==0.6.0a1) (2.4.7)\n",
      "Requirement already satisfied: pyasn1<0.5.0,>=0.4.6 in /Users/aribray/.pyenv/versions/3.6.13/lib/python3.6/site-packages (from pyasn1-modules>=0.2.1->google-auth<2.0dev,>=1.21.1->google-api-core[grpc]<2.0.0dev,>=1.22.2->google-cloud-aiplatform==0.6.0a1) (0.4.8)\n",
      "Requirement already satisfied: idna<3,>=2.5 in /Users/aribray/.local/lib/python3.6/site-packages (from requests<3.0.0dev,>=2.18.0->google-api-core[grpc]<2.0.0dev,>=1.22.2->google-cloud-aiplatform==0.6.0a1) (2.10)\n",
      "Requirement already satisfied: urllib3<1.27,>=1.21.1 in /Users/aribray/.local/lib/python3.6/site-packages (from requests<3.0.0dev,>=2.18.0->google-api-core[grpc]<2.0.0dev,>=1.22.2->google-cloud-aiplatform==0.6.0a1) (1.26.4)\n",
      "Requirement already satisfied: chardet<5,>=3.0.2 in /Users/aribray/.local/lib/python3.6/site-packages (from requests<3.0.0dev,>=2.18.0->google-api-core[grpc]<2.0.0dev,>=1.22.2->google-cloud-aiplatform==0.6.0a1) (4.0.0)\n",
      "Requirement already satisfied: certifi>=2017.4.17 in /Users/aribray/.local/lib/python3.6/site-packages (from requests<3.0.0dev,>=2.18.0->google-api-core[grpc]<2.0.0dev,>=1.22.2->google-cloud-aiplatform==0.6.0a1) (2020.12.5)\n"
     ]
    }
   ],
   "source": [
    "! pip3 install -U git+https://github.com/googleapis/python-aiplatform.git@mb-release"
   ]
  },
  {
   "cell_type": "markdown",
   "metadata": {
    "id": "install_storage"
   },
   "source": [
    "Install the latest GA version of *google-cloud-storage* library as well."
   ]
  },
  {
   "cell_type": "code",
   "execution_count": 2,
   "metadata": {
    "id": "qssss-KSlugo"
   },
   "outputs": [
    {
     "name": "stdout",
     "output_type": "stream",
     "text": [
      "Requirement already satisfied: google-cloud-storage in /Users/aribray/.pyenv/versions/3.6.13/lib/python3.6/site-packages (1.38.0)\n",
      "Requirement already satisfied: google-resumable-media<2.0dev,>=1.2.0 in /Users/aribray/.pyenv/versions/3.6.13/lib/python3.6/site-packages (from google-cloud-storage) (1.2.0)\n",
      "Requirement already satisfied: requests<3.0.0dev,>=2.18.0 in /Users/aribray/.local/lib/python3.6/site-packages (from google-cloud-storage) (2.25.1)\n",
      "Requirement already satisfied: google-auth<2.0dev,>=1.11.0 in /Users/aribray/.pyenv/versions/3.6.13/lib/python3.6/site-packages (from google-cloud-storage) (1.28.1)\n",
      "Requirement already satisfied: google-cloud-core<2.0dev,>=1.4.1 in /Users/aribray/.pyenv/versions/3.6.13/lib/python3.6/site-packages (from google-cloud-storage) (1.6.0)\n",
      "Requirement already satisfied: rsa<5,>=3.1.4 in /Users/aribray/.pyenv/versions/3.6.13/lib/python3.6/site-packages (from google-auth<2.0dev,>=1.11.0->google-cloud-storage) (4.7.2)\n",
      "Requirement already satisfied: pyasn1-modules>=0.2.1 in /Users/aribray/.pyenv/versions/3.6.13/lib/python3.6/site-packages (from google-auth<2.0dev,>=1.11.0->google-cloud-storage) (0.2.8)\n",
      "Requirement already satisfied: cachetools<5.0,>=2.0.0 in /Users/aribray/.pyenv/versions/3.6.13/lib/python3.6/site-packages (from google-auth<2.0dev,>=1.11.0->google-cloud-storage) (4.2.1)\n",
      "Requirement already satisfied: setuptools>=40.3.0 in /Users/aribray/.pyenv/versions/3.6.13/lib/python3.6/site-packages (from google-auth<2.0dev,>=1.11.0->google-cloud-storage) (56.0.0)\n",
      "Requirement already satisfied: six>=1.9.0 in /Users/aribray/.local/lib/python3.6/site-packages (from google-auth<2.0dev,>=1.11.0->google-cloud-storage) (1.15.0)\n",
      "Requirement already satisfied: google-api-core<2.0.0dev,>=1.21.0 in /Users/aribray/.pyenv/versions/3.6.13/lib/python3.6/site-packages (from google-cloud-core<2.0dev,>=1.4.1->google-cloud-storage) (1.26.3)\n",
      "Requirement already satisfied: protobuf>=3.12.0 in /Users/aribray/.local/lib/python3.6/site-packages (from google-api-core<2.0.0dev,>=1.21.0->google-cloud-core<2.0dev,>=1.4.1->google-cloud-storage) (3.15.6)\n",
      "Requirement already satisfied: googleapis-common-protos<2.0dev,>=1.6.0 in /Users/aribray/.pyenv/versions/3.6.13/lib/python3.6/site-packages (from google-api-core<2.0.0dev,>=1.21.0->google-cloud-core<2.0dev,>=1.4.1->google-cloud-storage) (1.53.0)\n",
      "Requirement already satisfied: packaging>=14.3 in /Users/aribray/.local/lib/python3.6/site-packages (from google-api-core<2.0.0dev,>=1.21.0->google-cloud-core<2.0dev,>=1.4.1->google-cloud-storage) (20.9)\n",
      "Requirement already satisfied: pytz in /Users/aribray/.pyenv/versions/3.6.13/lib/python3.6/site-packages (from google-api-core<2.0.0dev,>=1.21.0->google-cloud-core<2.0dev,>=1.4.1->google-cloud-storage) (2021.1)\n",
      "Requirement already satisfied: google-crc32c<2.0dev,>=1.0 in /Users/aribray/.pyenv/versions/3.6.13/lib/python3.6/site-packages (from google-resumable-media<2.0dev,>=1.2.0->google-cloud-storage) (1.1.2)\n",
      "Requirement already satisfied: cffi>=1.0.0 in /Users/aribray/.pyenv/versions/3.6.13/lib/python3.6/site-packages (from google-crc32c<2.0dev,>=1.0->google-resumable-media<2.0dev,>=1.2.0->google-cloud-storage) (1.14.5)\n",
      "Requirement already satisfied: pycparser in /Users/aribray/.pyenv/versions/3.6.13/lib/python3.6/site-packages (from cffi>=1.0.0->google-crc32c<2.0dev,>=1.0->google-resumable-media<2.0dev,>=1.2.0->google-cloud-storage) (2.20)\n",
      "Requirement already satisfied: pyparsing>=2.0.2 in /Users/aribray/.local/lib/python3.6/site-packages (from packaging>=14.3->google-api-core<2.0.0dev,>=1.21.0->google-cloud-core<2.0dev,>=1.4.1->google-cloud-storage) (2.4.7)\n",
      "Requirement already satisfied: pyasn1<0.5.0,>=0.4.6 in /Users/aribray/.pyenv/versions/3.6.13/lib/python3.6/site-packages (from pyasn1-modules>=0.2.1->google-auth<2.0dev,>=1.11.0->google-cloud-storage) (0.4.8)\n",
      "Requirement already satisfied: chardet<5,>=3.0.2 in /Users/aribray/.local/lib/python3.6/site-packages (from requests<3.0.0dev,>=2.18.0->google-cloud-storage) (4.0.0)\n",
      "Requirement already satisfied: certifi>=2017.4.17 in /Users/aribray/.local/lib/python3.6/site-packages (from requests<3.0.0dev,>=2.18.0->google-cloud-storage) (2020.12.5)\n",
      "Requirement already satisfied: urllib3<1.27,>=1.21.1 in /Users/aribray/.local/lib/python3.6/site-packages (from requests<3.0.0dev,>=2.18.0->google-cloud-storage) (1.26.4)\n",
      "Requirement already satisfied: idna<3,>=2.5 in /Users/aribray/.local/lib/python3.6/site-packages (from requests<3.0.0dev,>=2.18.0->google-cloud-storage) (2.10)\n"
     ]
    }
   ],
   "source": [
    "! pip3 install -U google-cloud-storage"
   ]
  },
  {
   "cell_type": "markdown",
   "metadata": {
    "id": "install_pillow"
   },
   "source": [
    "Install the *pillow* library for loading images."
   ]
  },
  {
   "cell_type": "markdown",
   "metadata": {},
   "source": [
    "MAY NOT NEED PILLOW OR NUMPY"
   ]
  },
  {
   "cell_type": "code",
   "execution_count": 3,
   "metadata": {
    "id": "vhP4dtWUlugp"
   },
   "outputs": [
    {
     "name": "stdout",
     "output_type": "stream",
     "text": [
      "Requirement already satisfied: pillow in /Users/aribray/.pyenv/versions/3.6.13/lib/python3.6/site-packages (8.2.0)\n"
     ]
    }
   ],
   "source": [
    "! pip3 install -U pillow"
   ]
  },
  {
   "cell_type": "markdown",
   "metadata": {
    "id": "install_numpy"
   },
   "source": [
    "Install the *numpy* library for manipulation of image data."
   ]
  },
  {
   "cell_type": "code",
   "execution_count": 4,
   "metadata": {
    "id": "80-_pO4olugp"
   },
   "outputs": [
    {
     "name": "stdout",
     "output_type": "stream",
     "text": [
      "Requirement already satisfied: numpy in /Users/aribray/.pyenv/versions/3.6.13/lib/python3.6/site-packages (1.19.5)\n"
     ]
    }
   ],
   "source": [
    "! pip3 install -U numpy"
   ]
  },
  {
   "cell_type": "markdown",
   "metadata": {
    "id": "hhq5zEbGg0XX"
   },
   "source": [
    "### Restart the kernel\n",
    "\n",
    "After you install the additional packages, you need to restart the notebook kernel so it can find the packages."
   ]
  },
  {
   "cell_type": "code",
   "execution_count": 1,
   "metadata": {
    "id": "EzrelQZ22IZj"
   },
   "outputs": [],
   "source": [
    "# Automatically restart kernel after installs\n",
    "import os\n",
    "\n",
    "if not os.getenv(\"IS_TESTING\"):\n",
    "    # Automatically restart kernel after installs\n",
    "    import IPython\n",
    "\n",
    "    app = IPython.Application.instance()\n",
    "    app.kernel.do_shutdown(True)"
   ]
  },
  {
   "cell_type": "markdown",
   "metadata": {
    "id": "lWEdiXsJg0XY"
   },
   "source": [
    "## Before you begin\n",
    "\n",
    "### Select a GPU runtime\n",
    "\n",
    "**Make sure you're running this notebook in a GPU runtime if you have that option. In Colab, select \"Runtime --> Change runtime type > GPU\"**"
   ]
  },
  {
   "cell_type": "markdown",
   "metadata": {
    "id": "BF1j6f9HApxa"
   },
   "source": [
    "### Set up your Google Cloud project\n",
    "\n",
    "**The following steps are required, regardless of your notebook environment.**\n",
    "\n",
    "1. [Select or create a Google Cloud project](https://console.cloud.google.com/cloud-resource-manager). When you first create an account, you get a $300 free credit towards your compute/storage costs.\n",
    "\n",
    "1. [Make sure that billing is enabled for your project](https://cloud.google.com/billing/docs/how-to/modify-project).\n",
    "\n",
    "1. [Enable the AI Platform (Unified) API and Compute Engine API](https://console.cloud.google.com/flows/enableapi?apiid=aiplatform.googleapis.com,compute_component).\n",
    "\n",
    "1. If you are running this notebook locally, you will need to install the [Cloud SDK](https://cloud.google.com/sdk).\n",
    "\n",
    "1. Enter your project ID in the cell below. Then run the cell to make sure the\n",
    "Cloud SDK uses the right project for all the commands in this notebook.\n",
    "\n",
    "**Note**: Jupyter runs lines prefixed with `!` as shell commands, and it interpolates Python variables prefixed with `$` into these commands."
   ]
  },
  {
   "cell_type": "markdown",
   "metadata": {
    "id": "WReHDGG5g0XY"
   },
   "source": [
    "### Set your project ID\n",
    "\n",
    "**If you don't know your project ID**, you may be able to get your project ID using `gcloud`."
   ]
  },
  {
   "cell_type": "code",
   "execution_count": 1,
   "metadata": {
    "id": "oM1iC_MfAts1"
   },
   "outputs": [
    {
     "ename": "NameError",
     "evalue": "name 'os' is not defined",
     "output_type": "error",
     "traceback": [
      "\u001b[0;31m---------------------------------------------------------------------------\u001b[0m",
      "\u001b[0;31mNameError\u001b[0m                                 Traceback (most recent call last)",
      "\u001b[0;32m<ipython-input-1-10bcb603ed43>\u001b[0m in \u001b[0;36m<module>\u001b[0;34m\u001b[0m\n\u001b[1;32m      2\u001b[0m \u001b[0;34m\u001b[0m\u001b[0m\n\u001b[1;32m      3\u001b[0m \u001b[0;31m# Get your Google Cloud project ID from gcloud\u001b[0m\u001b[0;34m\u001b[0m\u001b[0;34m\u001b[0m\u001b[0;34m\u001b[0m\u001b[0m\n\u001b[0;32m----> 4\u001b[0;31m \u001b[0;32mif\u001b[0m \u001b[0;32mnot\u001b[0m \u001b[0mos\u001b[0m\u001b[0;34m.\u001b[0m\u001b[0mgetenv\u001b[0m\u001b[0;34m(\u001b[0m\u001b[0;34m\"IS_TESTING\"\u001b[0m\u001b[0;34m)\u001b[0m\u001b[0;34m:\u001b[0m\u001b[0;34m\u001b[0m\u001b[0;34m\u001b[0m\u001b[0m\n\u001b[0m\u001b[1;32m      5\u001b[0m     \u001b[0mshell_output\u001b[0m\u001b[0;34m=\u001b[0m\u001b[0mget_ipython\u001b[0m\u001b[0;34m(\u001b[0m\u001b[0;34m)\u001b[0m\u001b[0;34m.\u001b[0m\u001b[0mgetoutput\u001b[0m\u001b[0;34m(\u001b[0m\u001b[0;34m\"gcloud config list --format 'value(core.project)' 2>/dev/null\"\u001b[0m\u001b[0;34m)\u001b[0m\u001b[0;34m\u001b[0m\u001b[0;34m\u001b[0m\u001b[0m\n\u001b[1;32m      6\u001b[0m     \u001b[0mPROJECT_ID\u001b[0m \u001b[0;34m=\u001b[0m \u001b[0mshell_output\u001b[0m\u001b[0;34m[\u001b[0m\u001b[0;36m0\u001b[0m\u001b[0;34m]\u001b[0m\u001b[0;34m\u001b[0m\u001b[0;34m\u001b[0m\u001b[0m\n",
      "\u001b[0;31mNameError\u001b[0m: name 'os' is not defined"
     ]
    }
   ],
   "source": [
    "PROJECT_ID = \"python-docs-samples-tests\"\n",
    "\n",
    "# Get your Google Cloud project ID from gcloud\n",
    "if not os.getenv(\"IS_TESTING\"):\n",
    "    shell_output=!gcloud config list --format 'value(core.project)' 2>/dev/null\n",
    "    PROJECT_ID = shell_output[0]\n",
    "    print(\"Project ID: \", PROJECT_ID)"
   ]
  },
  {
   "cell_type": "markdown",
   "metadata": {
    "id": "qJYoRfYng0XZ"
   },
   "source": [
    "Otherwise, set your project ID here."
   ]
  },
  {
   "cell_type": "code",
   "execution_count": 2,
   "metadata": {
    "id": "riG_qUokg0XZ"
   },
   "outputs": [],
   "source": [
    "if PROJECT_ID == \"\" or PROJECT_ID is None:\n",
    "    PROJECT_ID = \"python-docs-samples-tests\"  # @param {type:\"string\"}"
   ]
  },
  {
   "cell_type": "markdown",
   "metadata": {
    "id": "06571eb4063b"
   },
   "source": [
    "### Timestamp\n",
    "\n",
    "If you are in a live tutorial session, you might be using a shared test account or project. To avoid name collisions between users on resources created, you create a timestamp for each instance session, and append it onto the name of resources you create in this tutorial."
   ]
  },
  {
   "cell_type": "code",
   "execution_count": 3,
   "metadata": {
    "id": "697568e92bd6"
   },
   "outputs": [
    {
     "name": "stdout",
     "output_type": "stream",
     "text": [
      "TIMESTAMP\n",
      "20210513113655\n"
     ]
    }
   ],
   "source": [
    "from datetime import datetime\n",
    "\n",
    "TIMESTAMP = datetime.now().strftime(\"%Y%m%d%H%M%S\")\n",
    "print(\"TIMESTAMP\")\n",
    "print(TIMESTAMP)"
   ]
  },
  {
   "cell_type": "markdown",
   "metadata": {
    "id": "dr--iN2kAylZ"
   },
   "source": [
    "### Authenticate your Google Cloud account\n",
    "\n",
    "**If you are using AI Platform Notebooks**, your environment is already\n",
    "authenticated. Skip this step."
   ]
  },
  {
   "cell_type": "markdown",
   "metadata": {
    "id": "sBCra4QMA2wR"
   },
   "source": [
    "**If you are using Colab**, run the cell below and follow the instructions\n",
    "when prompted to authenticate your account via oAuth.\n",
    "\n",
    "**Otherwise**, follow these steps:\n",
    "\n",
    "1. In the Cloud Console, go to the [**Create service account key**\n",
    "   page](https://console.cloud.google.com/apis/credentials/serviceaccountkey).\n",
    "\n",
    "2. Click **Create service account**.\n",
    "\n",
    "3. In the **Service account name** field, enter a name, and\n",
    "   click **Create**.\n",
    "\n",
    "4. In the **Grant this service account access to project** section, click the **Role** drop-down list. Type \"AI Platform\"\n",
    "into the filter box, and select\n",
    "   **AI Platform Administrator**. Type \"Storage Object Admin\" into the filter box, and select **Storage Object Admin**.\n",
    "\n",
    "5. Click *Create*. A JSON file that contains your key downloads to your\n",
    "local environment.\n",
    "\n",
    "6. Enter the path to your service account key as the\n",
    "`GOOGLE_APPLICATION_CREDENTIALS` variable in the cell below and run the cell."
   ]
  },
  {
   "cell_type": "code",
   "execution_count": 4,
   "metadata": {
    "id": "PyQmSRbKA8r-"
   },
   "outputs": [
    {
     "name": "stdout",
     "output_type": "stream",
     "text": [
      "env: GOOGLE_APPLICATION_CREDENTIALS='/Users/aribray/Desktop/python-docs-samples-tests-7eb55d1f1d40.json'\n"
     ]
    }
   ],
   "source": [
    "import os\n",
    "import sys\n",
    "\n",
    "# If you are running this notebook in Colab, run this cell and follow the\n",
    "# instructions to authenticate your GCP account. This provides access to your\n",
    "# Cloud Storage bucket and lets you submit training jobs and prediction\n",
    "# requests.\n",
    "\n",
    "# If on AI Platform, then don't execute this code\n",
    "if not os.path.exists(\"/opt/deeplearning/metadata/env_version\"):\n",
    "    if \"google.colab\" in sys.modules:\n",
    "        from google.colab import auth as google_auth\n",
    "\n",
    "        google_auth.authenticate_user()\n",
    "\n",
    "    # If you are running this notebook locally, replace the string below with the\n",
    "    # path to your service account key and run this cell to authenticate your GCP\n",
    "    # account.\n",
    "    elif not os.getenv(\"IS_TESTING\"):\n",
    "        %env GOOGLE_APPLICATION_CREDENTIALS '/Users/aribray/Desktop/python-docs-samples-tests-7eb55d1f1d40.json'"
   ]
  },
  {
   "cell_type": "markdown",
   "metadata": {
    "id": "zgPO1eR3CYjk"
   },
   "source": [
    "### Create a Cloud Storage bucket\n",
    "\n",
    "**The following steps are required, regardless of your notebook environment.**\n",
    "\n",
    "This notebook demonstrates how to use Model Builder SDK to create an AutoML model based on a tabular dataset. You will need to provide a Cloud Storage bucket where the dataset will be stored.\n",
    "\n",
    "Set the name of your Cloud Storage bucket below. It must be unique across all of your \n",
    "Cloud Storage buckets.\n",
    "\n",
    "You may also change the `REGION` variable, which is used for operations\n",
    "throughout the rest of this notebook. Make sure to [choose a region where AI Platform (Unified) services are\n",
    "available](https://cloud.google.com/ai-platform-unified/docs/general/locations#available_regions). You may\n",
    "not use a Multi-Regional Storage bucket for training with AI Platform."
   ]
  },
  {
   "cell_type": "code",
   "execution_count": 5,
   "metadata": {
    "id": "MzGDU7TWdts_"
   },
   "outputs": [],
   "source": [
    "BUCKET_NAME = \"gs://ari-test-bucket\"  # @param {type:\"string\"}\n",
    "REGION = \"us-central1\"  # @param {type:\"string\"}"
   ]
  },
  {
   "cell_type": "code",
   "execution_count": 8,
   "metadata": {
    "id": "cf221059d072"
   },
   "outputs": [
    {
     "ename": "NameError",
     "evalue": "name 'BUCKET_NAME' is not defined",
     "output_type": "error",
     "traceback": [
      "\u001b[0;31m---------------------------------------------------------------------------\u001b[0m",
      "\u001b[0;31mNameError\u001b[0m                                 Traceback (most recent call last)",
      "\u001b[0;32m<ipython-input-8-000df3bf08f2>\u001b[0m in \u001b[0;36m<module>\u001b[0;34m\u001b[0m\n\u001b[0;32m----> 1\u001b[0;31m \u001b[0;32mif\u001b[0m \u001b[0mBUCKET_NAME\u001b[0m \u001b[0;34m==\u001b[0m \u001b[0;34m\"\"\u001b[0m \u001b[0;32mor\u001b[0m \u001b[0mBUCKET_NAME\u001b[0m \u001b[0;32mis\u001b[0m \u001b[0;32mNone\u001b[0m \u001b[0;32mor\u001b[0m \u001b[0mBUCKET_NAME\u001b[0m \u001b[0;34m==\u001b[0m \u001b[0;34m\"gs://[your-bucket-name]\"\u001b[0m\u001b[0;34m:\u001b[0m\u001b[0;34m\u001b[0m\u001b[0;34m\u001b[0m\u001b[0m\n\u001b[0m\u001b[1;32m      2\u001b[0m     \u001b[0mBUCKET_NAME\u001b[0m \u001b[0;34m=\u001b[0m \u001b[0;34m\"gs://\"\u001b[0m \u001b[0;34m+\u001b[0m \u001b[0mPROJECT_ID\u001b[0m \u001b[0;34m+\u001b[0m \u001b[0;34m\"aip-\"\u001b[0m \u001b[0;34m+\u001b[0m \u001b[0mTIMESTAMP\u001b[0m\u001b[0;34m\u001b[0m\u001b[0;34m\u001b[0m\u001b[0m\n\u001b[1;32m      3\u001b[0m \u001b[0;34m\u001b[0m\u001b[0m\n\u001b[1;32m      4\u001b[0m \u001b[0;34m\u001b[0m\u001b[0m\n\u001b[1;32m      5\u001b[0m \u001b[0mprint\u001b[0m\u001b[0;34m(\u001b[0m\u001b[0mBUCKET_NAME\u001b[0m\u001b[0;34m)\u001b[0m\u001b[0;34m\u001b[0m\u001b[0;34m\u001b[0m\u001b[0m\n",
      "\u001b[0;31mNameError\u001b[0m: name 'BUCKET_NAME' is not defined"
     ]
    }
   ],
   "source": [
    "if BUCKET_NAME == \"\" or BUCKET_NAME is None or BUCKET_NAME == \"gs://[your-bucket-name]\":\n",
    "    BUCKET_NAME = \"gs://\" + PROJECT_ID + \"aip-\" + TIMESTAMP\n",
    "    \n",
    "\n",
    "print(BUCKET_NAME)"
   ]
  },
  {
   "cell_type": "markdown",
   "metadata": {
    "id": "-EcIXiGsCePi"
   },
   "source": [
    "**Only if your bucket doesn't already exist**: Run the following cell to create your Cloud Storage bucket."
   ]
  },
  {
   "cell_type": "code",
   "execution_count": 6,
   "metadata": {
    "id": "NIq7R4HZCfIc"
   },
   "outputs": [
    {
     "name": "stdout",
     "output_type": "stream",
     "text": [
      "CommandException: Incorrect option(s) specified. Usage:\n",
      "\n",
      "  gsutil mb [-b (on|off)] [-c <class>] [-l <location>] [-p <proj_id>]\n",
      "            [--retention <time>] gs://<bucket_name>...\n",
      "\n",
      "For additional help run:\n",
      "  gsutil help mb\n"
     ]
    }
   ],
   "source": [
    "! gsutil mb -l $REGION $BUCKET_NAME"
   ]
  },
  {
   "cell_type": "markdown",
   "metadata": {
    "id": "ucvCsknMCims"
   },
   "source": [
    "Finally, validate access to your Cloud Storage bucket by examining its contents:"
   ]
  },
  {
   "cell_type": "code",
   "execution_count": 6,
   "metadata": {
    "id": "vhOb7YnwClBb"
   },
   "outputs": [
    {
     "name": "stdout",
     "output_type": "stream",
     "text": [
      "AccessDeniedException: 403 aribray-test@python-docs-samples-tests.iam.gserviceaccount.com does not have storage.objects.list access to the Google Cloud Storage bucket.\n"
     ]
    }
   ],
   "source": [
    "! gsutil ls -al $BUCKET_NAME"
   ]
  },
  {
   "cell_type": "markdown",
   "metadata": {},
   "source": [
    "### Copy dataset into your Cloud Storage bucket"
   ]
  },
  {
   "cell_type": "code",
   "execution_count": null,
   "metadata": {
    "scrolled": true
   },
   "outputs": [],
   "source": [
    "IMPORT_FILE = 'california-housing.csv'\n",
    "print(f'cloud-samples-data/ai-platform-unified/datasets/tabular/{IMPORT_FILE}')\n",
    "! gsutil cp cloud-samples-data/ai-platform-unified/datasets/tabular/{IMPORT_FILE} {BUCKET_NAME}/data\n",
    "\n",
    "gcs_csv_path = f'{BUCKET_NAME}/data/{IMPORT_FILE}'"
   ]
  },
  {
   "cell_type": "markdown",
   "metadata": {
    "id": "Y9Uo3tifg1kx"
   },
   "source": [
    "### Import AI Platform (Unified) client library\n",
    "\n",
    "Import the AI Platform (Unified) client library into your Python environment and initialize it."
   ]
  },
  {
   "cell_type": "code",
   "execution_count": null,
   "metadata": {
    "id": "pRUOFELefqf1"
   },
   "outputs": [],
   "source": [
    "import os\n",
    "import sys\n",
    "\n",
    "from google.cloud import aiplatform\n",
    "from google.cloud.aiplatform import gapic as aip\n",
    "\n",
    "aiplatform.init(project=PROJECT_ID, location=REGION)"
   ]
  },
  {
   "cell_type": "markdown",
   "metadata": {},
   "source": [
    "## Tutorial\n",
    "\n",
    "Now you are ready to create your AutoML Tabular model."
   ]
  },
  {
   "cell_type": "markdown",
   "metadata": {},
   "source": [
    "### Create a Managed Tabular Dataset from CSV\n",
    "\n",
    "This section will create a dataset from a CSV file stored on your GCS bucket."
   ]
  },
  {
   "cell_type": "code",
   "execution_count": null,
   "metadata": {},
   "outputs": [],
   "source": [
    "ds = aiplatform.Dataset.create(\n",
    "    display_name='california-housing',\n",
    "    metadata_schema_uri=aiplatform.schema.dataset.metadata.tabular,\n",
    "    gcs_source=[gcs_csv_path]\n",
    ")\n",
    "\n",
    "ds.resource_name"
   ]
  },
  {
   "cell_type": "markdown",
   "metadata": {},
   "source": [
    "### Launch a Training Job to Create a Model\n",
    "\n",
    "Once we have defined your training script, we will create a model. The `run` function creates a training pipeline that trains and creates a `Model` object. After the training pipeline completes, the `run` function returns the `Model` object."
   ]
  },
  {
   "cell_type": "code",
   "execution_count": null,
   "metadata": {},
   "outputs": [],
   "source": [
    "job = aiplatform.AutoMLTabularTrainingJob(\n",
    "    display_name='train-housing-automl_1',\n",
    "    optimization_prediction_type='classification',\n",
    "    optimization_objective='minimize-rmse',    \n",
    "    column_transformations=[\n",
    "        {\"numeric\": {\"column_name\": \"longitude\"}},\n",
    "        {\"numeric\": {\"column_name\": \"latitude\"}},\n",
    "        {\"numeric\": {\"column_name\": \"housing_median_age\"}},\n",
    "        {\"numeric\": {\"column_name\": \"total_rooms\"}},\n",
    "        {\"numeric\": {\"column_name\": \"total_bedrooms\"}},\n",
    "        {\"numeric\": {\"column_name\": \"population\"}},\n",
    "        {\"numeric\": {\"column_name\": \"households\"}},\n",
    "        {\"numeric\": {\"column_name\": \"median_income\"}},\n",
    "    ],\n",
    "    optimization_objective_recall_value=None,\n",
    "    optimization_objective_precision_value=None,\n",
    ")\n",
    "\n",
    "# This will take around an hour to run\n",
    "model = job.run(\n",
    "        dataset=ds,\n",
    "        target_column='median_house_value',\n",
    "        training_fraction_split=0.6,\n",
    "        validation_fraction_split=0.2,\n",
    "        test_fraction_split=0.2,\n",
    "        weight_column=None,\n",
    "        budget_milli_node_hours=1000,\n",
    "        model_display_name='house-value-prediction-model', \n",
    "        disable_early_stopping=False,\n",
    "        predefined_split_column_name=None,\n",
    "    )"
   ]
  },
  {
   "cell_type": "markdown",
   "metadata": {},
   "source": [
    "### Deploy your model\n",
    "\n",
    "Before you use your model to make predictions, you need to deploy it to an `Endpoint`. You can do this by calling the `deploy` function on the `Model` resource. This function does two things:\n",
    "\n",
    "1. Create an `Endpoint` resource to which the `Model` resource will be deployed.\n",
    "2. Deploy the `Model` resource to the `Endpoint` resource.\n",
    "\n",
    "Deploy your model, then wait until the model FINISHES deployment before proceeding to prediction."
   ]
  },
  {
   "cell_type": "code",
   "execution_count": null,
   "metadata": {},
   "outputs": [],
   "source": [
    "endpoint = model.deploy(machine_type='nl-standard-4')"
   ]
  },
  {
   "cell_type": "markdown",
   "metadata": {},
   "source": [
    "## Predict on the endpoint\n",
    "\n",
    "- This samples is taken from an observation where median_house_value = 94600\n",
    "- Note that the valuse are all strings. Since the original data was in CSV format, everything is treated as a string. The transformations passed into the Dataset inform AI Platform (Unified) to transform the inputs to numeric types."
   ]
  },
  {
   "cell_type": "code",
   "execution_count": null,
   "metadata": {},
   "outputs": [],
   "source": [
    "prediction = endpoint.predict([\n",
    "    {\"longitude\": '-124.35',\n",
    "     \"latitude\": '40.54',\n",
    "     \"housing_median_age\": '52.0',\n",
    "     \"total_rooms\": '1820.0',\n",
    "     \"total_bedrooms\": '300.0',\n",
    "     \"population\": '806',\n",
    "     \"households\": '270.0',\n",
    "     \"median_income\": '3.014700', \n",
    "    }\n",
    "])\n",
    "\n",
    "print(prediction)"
   ]
  },
  {
   "cell_type": "markdown",
   "metadata": {},
   "source": [
    "## Undeploy the model\n",
    "\n",
    "To undeploy your `Model` resource from the serving `Endpoint` resource, use the endpoint's `undeploy` method with the following parameter:\n",
    "\n",
    "- `deployed_model_id`: The model deployment identifier returned by the endpoint service when the `Model` resource is deployed. You can retrieve the deployed models using the endpoint's `deployed_models` property."
   ]
  },
  {
   "cell_type": "markdown",
   "metadata": {},
   "source": [
    "# Cleaning up\n",
    "\n",
    "To clean up all Google Cloud resources used in this project, you can [delete the Google Cloud project](https://cloud.google.com/resource-manager/docs/creating-managing-projects#shutting_down_projects) you used for the tutorial.\n",
    "\n",
    "Otherwise, you can delete the individual resources you created in this tutorial:\n",
    "\n",
    "- Training Job\n",
    "- Model\n",
    "- Endpoint\n",
    "- Cloud Storage Bucket"
   ]
  },
  {
   "cell_type": "code",
   "execution_count": null,
   "metadata": {},
   "outputs": [],
   "source": [
    "delete_training_job = True\n",
    "delete_model = True\n",
    "delete_endpoint = True\n",
    "\n",
    "# Warning: Setting this to true will delete everything in your bucket\n",
    "delete_bucket = False\n",
    "\n",
    "# Delete the training job\n",
    "job.delete()\n",
    "\n",
    "# Delete the model\n",
    "model.delete()\n",
    "\n",
    "# Delete the endpoint\n",
    "endpoint.delete()\n",
    "\n",
    "if delete_bucket and \"BUCKET_NAME\" in globals():\n",
    "    ! gsutil -m rm -r $BUCKET_NAME"
   ]
  }
 ],
 "metadata": {
  "colab": {
   "collapsed_sections": [],
   "name": "tabular-model-training-and-prediction.ipynb",
   "toc_visible": true
  },
  "kernelspec": {
   "display_name": "Python (aribray-mbsdk)",
   "language": "python",
   "name": "aribray-mbsdk"
  },
  "language_info": {
   "codemirror_mode": {
    "name": "ipython",
    "version": 3
   },
   "file_extension": ".py",
   "mimetype": "text/x-python",
   "name": "python",
   "nbconvert_exporter": "python",
   "pygments_lexer": "ipython3",
   "version": "3.6.13"
  }
 },
 "nbformat": 4,
 "nbformat_minor": 4
}
